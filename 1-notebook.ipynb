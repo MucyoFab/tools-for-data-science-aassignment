{
 "cells": [
  {
   "cell_type": "markdown",
   "id": "0e07fc6e-9bd8-41bf-9956-2d79eab8ad65",
   "metadata": {},
   "source": [
    "Data Science Tools and Ecosystem"
   ]
  },
  {
   "cell_type": "markdown",
   "id": "d7b6520b-0a62-4d7e-ac2f-c41a3f67af11",
   "metadata": {},
   "source": [
    "Intro: In this notebook, we are going to summarize the chapter Data Science Tools and Ecosystem."
   ]
  },
  {
   "cell_type": "markdown",
   "id": "2f16ad96-4590-4dec-892d-188f163702cd",
   "metadata": {},
   "source": [
    "Some of the popular languages that Data Scientists use are:\n",
    "1. Python\n",
    "2. R\n",
    "3. SQL\n",
    "4. Julia"
   ]
  },
  {
   "cell_type": "markdown",
   "id": "8c0d281a-341f-445b-ad11-4bffd2e2d771",
   "metadata": {},
   "source": [
    "Here are some of the commonly used libraries used by Data Scientists include:\r\n",
    "1. Pandas\r\n",
    "2. NumPy\r\n",
    "3. Matplotlib"
   ]
  },
  {
   "cell_type": "markdown",
   "id": "80b0a578-a46e-4c80-8319-d79e150ac371",
   "metadata": {},
   "source": [
    "| Tool           | Description                                                                                 |\n",
    "|----------------|---------------------------------------------------------------------------------------------|\n",
    "| Python         | programming language used for data analysis, machine learning, and more.\n",
    "| R              | A statistical computing language and environment for data analysis and visualization.     \n",
    "| Apache Spark   | An open-source unified analytics engine for large-scale data processing.                \n",
    "|TensorFlow      | An open-source platform for machine learning.                        \n",
    "|Tableau         | A data visualization tool for creating interactive and shareable dashboards.     \n",
    "|Jupyter Notebook| An open-source web application for creating and sharing documents with live code.  \n"
   ]
  },
  {
   "cell_type": "markdown",
   "id": "cfe4393f-7e2e-41e6-ad83-0cc4419e9893",
   "metadata": {},
   "source": [
    "On below markdowns are a few examples of evaluating arithmetic expressions in Python."
   ]
  },
  {
   "cell_type": "code",
   "execution_count": 8,
   "id": "1bec5535-a6d3-4188-83eb-db54c698fb15",
   "metadata": {},
   "outputs": [
    {
     "data": {
      "text/plain": [
       "570"
      ]
     },
     "execution_count": 8,
     "metadata": {},
     "output_type": "execute_result"
    }
   ],
   "source": [
    "(30 * 14) + 150"
   ]
  },
  {
   "cell_type": "code",
   "execution_count": 13,
   "id": "7662d908-c036-4a69-abd2-68f7c595c21c",
   "metadata": {},
   "outputs": [
    {
     "name": "stdout",
     "output_type": "stream",
     "text": [
      "235 mins is equal to 3 hour(s) and 55 min(s).\n"
     ]
    }
   ],
   "source": [
    "Total_mins = 235\n",
    "hours = Total_mins // 60\n",
    "mins = Total_mins % 60\n",
    "print(f\"{Total_mins} mins is equal to {hours} hour(s) and {mins} min(s).\")"
   ]
  },
  {
   "cell_type": "markdown",
   "id": "bc02bbe6-a21e-472b-ba98-98eb5df50583",
   "metadata": {},
   "source": [
    "**Objectives of this exercisse:**\r\n",
    "- List popular languages for Data Science.\r\n",
    "- List commonly used libraries in Data Science.\r\n",
    "- Create a table of Data Science tools.\r\n",
    "- Evaluate arithmetic expressions in Python.\r\n",
    "- Convert minutes to hours using Python."
   ]
  },
  {
   "cell_type": "markdown",
   "id": "82391e33-7c9c-4220-b339-3fd7c501c442",
   "metadata": {},
   "source": [
    "## The author:\n",
    "Fabrice Mucyo Iradukunda"
   ]
  },
  {
   "cell_type": "code",
   "execution_count": null,
   "id": "801aa774-e2e2-4314-adab-476e6e677525",
   "metadata": {},
   "outputs": [],
   "source": []
  }
 ],
 "metadata": {
  "kernelspec": {
   "display_name": "anaconda-ai-2024.04-py310",
   "language": "python",
   "name": "conda-env-anaconda-ai-2024.04-py310-py"
  },
  "language_info": {
   "codemirror_mode": {
    "name": "ipython",
    "version": 3
   },
   "file_extension": ".py",
   "mimetype": "text/x-python",
   "name": "python",
   "nbconvert_exporter": "python",
   "pygments_lexer": "ipython3",
   "version": "3.10.13"
  }
 },
 "nbformat": 4,
 "nbformat_minor": 5
}
